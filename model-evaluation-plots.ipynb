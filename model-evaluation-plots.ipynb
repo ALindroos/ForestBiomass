{
 "cells": [
  {
   "cell_type": "markdown",
   "id": "1b307298",
   "metadata": {},
   "source": [
    "# Model Evaluation Plots\n",
    "Create plots to visualize model predictions in various ways."
   ]
  },
  {
   "cell_type": "code",
   "execution_count": null,
   "id": "d8784e7d",
   "metadata": {},
   "outputs": [],
   "source": [
    "import ast\n",
    "from pathlib import Path\n",
    "\n",
    "import pandas as pd\n",
    "import numpy as np\n",
    "import joblib\n",
    "import matplotlib.pyplot as plt\n",
    "from matplotlib import colors\n",
    "from sklearn import metrics\n",
    "\n",
    "import geopandas as gpd\n",
    "from shapely.geometry import Polygon\n",
    "import contextily as cx\n",
    "import warnings\n",
    "warnings.filterwarnings('ignore')"
   ]
  },
  {
   "cell_type": "code",
   "execution_count": null,
   "id": "be888425",
   "metadata": {},
   "outputs": [],
   "source": [
    "def set_index_variables(df):    \n",
    "    df['ndvi'] = (df['B8_mean'] - df['B4_mean'])/(df['B8_mean'] + df['B4_mean'])\n",
    "    df['gndvi'] = (df['B8_mean'] - df['B3_mean'])/(df['B8_mean'] + df['B3_mean'])\n",
    "    df['evi'] = 2.5 * ((df['B8_mean'] - df['B4_mean'])/(df['B8_mean'] - 6*df['B4_mean'] - 7.5*df['B2_mean'] + 1))\n",
    "    df['sr'] = df['B8_mean'] / df['B4_mean']\n",
    "    df['msr'] = ((df['B8_mean'])/(df['B4_mean']-1)) / (np.sqrt((df['B8_mean'])/(df['B4_mean']))+1)\n",
    "    df['savi'] = (1+1) * (df['B8_mean']-df['B4_mean'])/(df['B8_mean']+df['B4_mean'])\n",
    "    df['ctvi'] = (df['ndvi']+0.5)/(abs(df['ndvi']+0.5)) * np.sqrt(abs(df['ndvi']+0.5))\n",
    "    df['ttvi'] = np.sqrt(abs((df['B8_mean']-df['B4_mean'])/(df['B8_mean']+df['B4_mean']) + 0.5))\n",
    "    df['rvi'] = df['B4_mean'] / df['B8_mean']\n",
    "    df['nrvi'] = (df['rvi']-1)/(df['rvi']+1)\n",
    "    df['ipvi'] = (df['B8_mean']) / (df['B8_mean']+df['B4_mean'])\n",
    "    df['osavi'] = (df['B8_mean']-df['B4_mean']) / (df['B8_mean']+df['B4_mean']+0.16)\n",
    "    df['tndvi'] = np.sqrt(df['ndvi']+0.5)\n",
    "    df['grvi'] = (df['B3_mean']-df['B4_mean']) / (df['B3_mean']+df['B4_mean'])\n",
    "    df['arvi'] = (df['B8_mean']-(2*df['B4_mean']-df['B2_mean']))/(df['B8_mean']+(2*df['B4_mean']-df['B2_mean']))\n",
    "    return df"
   ]
  },
  {
   "cell_type": "code",
   "execution_count": null,
   "id": "cea935bc",
   "metadata": {},
   "outputs": [],
   "source": [
    "# Features used to train model\n",
    "selected_features = ['B8_max', 'grvi', 'B2_mean', 'B3_mean', 'B8_min', 'B4_std', 'B3_max', 'B8_mean',\n",
    "                     'gndvi', 'B8_std', 'B2_max', 'B4_min', 'B2_min', 'B4_mean', 'B3_min', 'B2_std',\n",
    "                     'B4_max', 'msr', 'ctvi', 'rvi', 'osavi', 'sr', 'ndvi', 'nrvi', 'ipvi', 'ttvi', \n",
    "                     'savi', 'tndvi', 'evi', 'B3_std']"
   ]
  },
  {
   "cell_type": "code",
   "execution_count": null,
   "id": "108c696d",
   "metadata": {},
   "outputs": [],
   "source": [
    "# Load model\n",
    "saved_model_path = './model/rf-final.joblib'\n",
    "rf = joblib.load(saved_model_path)"
   ]
  },
  {
   "cell_type": "code",
   "execution_count": null,
   "id": "5fe6a58a",
   "metadata": {},
   "outputs": [],
   "source": [
    "# Find test data\n",
    "test_data_dir = './data/test'\n",
    "test_samples = sorted(Path(test_data_dir).glob('Hila_*.csv'))\n",
    "# Find test data (needed for the last plot only)\n",
    "train_data_dir = './data/train'\n",
    "train_samples = sorted(Path(train_data_dir).glob('Hila_*.csv'))"
   ]
  },
  {
   "cell_type": "code",
   "execution_count": null,
   "id": "ac672df6",
   "metadata": {},
   "outputs": [],
   "source": [
    "# Read and transform test data \n",
    "df = []\n",
    "for path in test_samples:\n",
    "    tmp_df = pd.read_csv(path, index_col=0)\n",
    "    tmp_df['cell_id'] = path.stem.split('_')[1]\n",
    "    df.append(tmp_df)\n",
    "df = pd.concat(df).reset_index(drop=True)\n",
    "df['agbm'] = 0.0256 * df['agbm'] / 1000\n",
    "df = set_index_variables(df)\n",
    "df.dropna(axis=0, inplace=True)"
   ]
  },
  {
   "cell_type": "code",
   "execution_count": null,
   "id": "fc7b6547",
   "metadata": {},
   "outputs": [],
   "source": [
    "# Predict biomass\n",
    "agbm_pred = rf.predict(df[selected_features])"
   ]
  },
  {
   "cell_type": "code",
   "execution_count": null,
   "id": "5d345ccf",
   "metadata": {},
   "outputs": [],
   "source": [
    "print('Test Mean Absolute Error:', metrics.mean_absolute_error(df['agbm'], agbm_pred))\n",
    "print('Test Mean Squared Error:', metrics.mean_squared_error(df['agbm'], agbm_pred))\n",
    "print('Test Root Mean Squared Error:', np.sqrt(metrics.mean_squared_error(df['agbm'], agbm_pred)))"
   ]
  },
  {
   "cell_type": "code",
   "execution_count": null,
   "id": "77a45e63",
   "metadata": {},
   "outputs": [],
   "source": [
    "# Transform data into GeoDataFrame\n",
    "df['geometry'] = df.coords.apply(lambda x: Polygon(ast.literal_eval(x)[0][:]))\n",
    "gdf = gpd.GeoDataFrame(df[['geometry', 'agbm', 'cell_id']], crs='epsg:4326').to_crs(crs=3857)\n",
    "gdf['agbm_prediction'] = test_agbm_pred"
   ]
  },
  {
   "cell_type": "code",
   "execution_count": null,
   "id": "de6c22a4",
   "metadata": {},
   "outputs": [],
   "source": [
    "# Compare statistics (over all test map cells)\n",
    "display(gdf.describe([.25, .5, .75, .90, .95, .99]))"
   ]
  },
  {
   "cell_type": "markdown",
   "id": "5ac6d3a1",
   "metadata": {},
   "source": [
    "## Histogram"
   ]
  },
  {
   "cell_type": "code",
   "execution_count": null,
   "id": "a760039a",
   "metadata": {},
   "outputs": [],
   "source": [
    "def plot_histogram(df, xlim, out_file=None):\n",
    "    \n",
    "    plt.figure(figsize=(14,10))\n",
    "    plt.hist(df.agbm, bins=50, range=(0, xlim),\n",
    "              alpha=0.5, label='Actual')\n",
    "\n",
    "    plt.hist(df.agbm_prediction, bins=50, range=(0, xlim),\n",
    "              alpha=0.5, label='Predicted')\n",
    "    plt.xticks(list(range(0, xlim+1)))\n",
    "\n",
    "    plt.xlabel('Above Ground Biomass (tonnes)', size=14)\n",
    "    plt.ylabel('Number of Samples', size=14)\n",
    "    plt.legend(loc='upper right')\n",
    "    \n",
    "    ymid = 8000\n",
    "    plt.vlines(x=xlim, ymin=0, ymax=ymid, color='black', lw=1, ls='--')\n",
    "    plt.text(xlim-0.1, ymid + 250, '99%', verticalalignment='center', color='black')\n",
    "    \n",
    "    if out_file:\n",
    "        plt.savefig(out_file, bbox_inches='tight')"
   ]
  },
  {
   "cell_type": "code",
   "execution_count": null,
   "id": "14fb679e",
   "metadata": {
    "scrolled": true
   },
   "outputs": [],
   "source": [
    "for cell_id in gdf.cell_id.unique():\n",
    "    g = gdf[gdf.cell_id == cell_id]\n",
    "    print(cell_id)\n",
    "    print(f'Total AGB: {round(g.agbm.sum())}')\n",
    "    print(f'Total Predicted AGB: {round(g.agbm_prediction.sum())}')\n",
    "    stats = g.describe(percentiles=[.25, .5, .75, .90, .95, .99])\n",
    "    display(stats)\n",
    "    xlim = round(stats.loc['99%'].agbm)\n",
    "    # out_file = f'./model/histogram-{cell_id}.png'\n",
    "    plot_histogram(g, xlim, out_file=None)"
   ]
  },
  {
   "cell_type": "markdown",
   "id": "6120efdc",
   "metadata": {},
   "source": [
    "## Choropleth"
   ]
  },
  {
   "cell_type": "code",
   "execution_count": null,
   "id": "9b3f9932",
   "metadata": {},
   "outputs": [],
   "source": [
    "def plot_choropleth(df, vmax, out_file=None, cmap='BuPu'):\n",
    "    fig, (ax1, ax2) = plt.subplots(1,2, figsize=(40,40),\n",
    "                                   sharex=True, sharey=True, constrained_layout=True)\n",
    "    \n",
    "    ax = df.plot('agbm', ax=ax1, cmap=cmap, vmin=0, vmax=vmax)\n",
    "    cx.add_basemap(ax, source=cx.providers.Esri.WorldImagery)\n",
    "    ax.set_title('Actual', fontdict={'fontsize': 45}, pad=15)\n",
    "    ax.set_axis_off()\n",
    "\n",
    "    ax = df.plot('agbm_prediction', ax=ax2, cmap=cmap, vmin=0, vmax=vmax)\n",
    "    cx.add_basemap(ax, source=cx.providers.Esri.WorldImagery)\n",
    "    ax.set_title('Predicted', fontdict={'fontsize': 45}, pad=15)\n",
    "    ax.set_axis_off()\n",
    "\n",
    "    cbar = fig.colorbar(ax1.collections[0], ax=[ax1, ax2],\n",
    "                        orientation='horizontal', pad=0.01)\n",
    "    cbar.set_label(label='Above Ground Biomass (tonnes)', size=30)\n",
    "    cbar.ax.tick_params(labelsize=25)\n",
    "\n",
    "    if out_file:\n",
    "        plt.savefig(out_file, bbox_inches='tight')"
   ]
  },
  {
   "cell_type": "code",
   "execution_count": null,
   "id": "21a0fd12",
   "metadata": {
    "scrolled": true
   },
   "outputs": [],
   "source": [
    "for cell_id in gdf.cell_id.unique():\n",
    "    print(cell_id)\n",
    "    g = gdf[gdf.cell_id == cell_id]\n",
    "    stats = g.describe(percentiles=[.25, .5, .75, .90, .95, .99])\n",
    "    vmax = round(stats.loc['99%'].agbm)\n",
    "    # out_file = f'./model/choropleth-{cell_id}.png'\n",
    "    plot_choropleth(g, vmax, out_file=None)"
   ]
  },
  {
   "cell_type": "markdown",
   "id": "98ff8c77",
   "metadata": {},
   "source": [
    "## Background of Choropleth"
   ]
  },
  {
   "cell_type": "code",
   "execution_count": null,
   "id": "9cc36054",
   "metadata": {},
   "outputs": [],
   "source": [
    "def plot_basemap(df, out_file=None):\n",
    "    ax = df.plot(alpha=0, figsize=(40,40))\n",
    "    cx.add_basemap(ax, source=cx.providers.Esri.WorldImagery)\n",
    "    ax.set_axis_off()\n",
    "    if out_file:\n",
    "        plt.savefig(out_file, bbox_inches='tight')"
   ]
  },
  {
   "cell_type": "code",
   "execution_count": null,
   "id": "d041cc10",
   "metadata": {
    "scrolled": true
   },
   "outputs": [],
   "source": [
    "for cell_id in gdf.cell_id.unique():\n",
    "    print(cell_id)\n",
    "    # out_file = f'model/basemap-{cell_id}.png'\n",
    "    plot_basemap(gdf[gdf.cell_id == cell_id], out_file=None)"
   ]
  },
  {
   "cell_type": "markdown",
   "id": "bbd47bd2",
   "metadata": {},
   "source": [
    "## Map Cells"
   ]
  },
  {
   "cell_type": "code",
   "execution_count": null,
   "id": "8b429f5c",
   "metadata": {},
   "outputs": [],
   "source": [
    "def plot_sample_map(df, out_file=None):\n",
    "    world = gpd.read_file(gpd.datasets.get_path('naturalearth_lowres'))\n",
    "    fin = world[world.name == 'Finland']\n",
    "    ax = fin.boundary.plot(color='black', figsize=(20, 20))\n",
    "    cmap = colors.ListedColormap(['green', 'purple'])\n",
    "    df.plot(ax=ax, column='use', cmap=cmap, legend=True)\n",
    "    for x, y, label in zip(df.geometry.centroid.x, df.geometry.centroid.y, df.cell_id):\n",
    "        xytext = (-68, -4) if label == 'M4143E' else (8, -4)\n",
    "        ax.annotate(label, xy=(x, y), xytext=xytext, textcoords='offset points', size=14, color='black')\n",
    "    ax.set_axis_off()\n",
    "    \n",
    "    if out_file:\n",
    "        plt.savefig(out_file, bbox_inches='tight')"
   ]
  },
  {
   "cell_type": "code",
   "execution_count": null,
   "id": "4f020345",
   "metadata": {},
   "outputs": [],
   "source": [
    "def read_sample_as_gdf(path, dissolve=False):\n",
    "    path = Path(path)\n",
    "    tmp_df = pd.read_csv(path, index_col=0)\n",
    "    tmp_df['geometry'] = tmp_df.coords.apply(lambda x: Polygon(ast.literal_eval(x)[0][:]))\n",
    "    tmp_df = gpd.GeoDataFrame(tmp_df, crs='epsg:4326')\n",
    "    if dissolve:\n",
    "        tmp_df = tmp_df.dissolve(aggfunc='mean')\n",
    "    tmp_df['cell_id'] = path.stem.split('_')[1]\n",
    "    return tmp_df"
   ]
  },
  {
   "cell_type": "code",
   "execution_count": null,
   "id": "773708a2",
   "metadata": {},
   "outputs": [],
   "source": [
    "all_samples = list(zip(train_samples, ['Train']*len(train_samples)))\n",
    "all_samples += list(zip(test_samples, ['Test']*len(test_samples)))"
   ]
  },
  {
   "cell_type": "code",
   "execution_count": null,
   "id": "cd31d7ff",
   "metadata": {},
   "outputs": [],
   "source": [
    "cell_gdf = []\n",
    "for path, use in all_samples:\n",
    "    tmp_gdf = read_sample_as_gdf(path, dissolve=True)[['geometry', 'cell_id']]\n",
    "    tmp_gdf['use'] = use\n",
    "    tmp_gdf['use'].astype('category')\n",
    "    cell_gdf.append(tmp_gdf)\n",
    "cell_gdf = gpd.GeoDataFrame(pd.concat(cell_gdf, ignore_index=True), crs='epsg:4326')"
   ]
  },
  {
   "cell_type": "code",
   "execution_count": null,
   "id": "56f2742f",
   "metadata": {
    "scrolled": false
   },
   "outputs": [],
   "source": [
    "# out_file = './model/all_samples.png'\n",
    "plot_sample_map(cell_gdf, out_file=None)"
   ]
  },
  {
   "cell_type": "code",
   "execution_count": null,
   "id": "c9e6f377",
   "metadata": {},
   "outputs": [],
   "source": []
  }
 ],
 "metadata": {
  "kernelspec": {
   "display_name": "Python 3 (ipykernel)",
   "language": "python",
   "name": "python3"
  },
  "language_info": {
   "codemirror_mode": {
    "name": "ipython",
    "version": 3
   },
   "file_extension": ".py",
   "mimetype": "text/x-python",
   "name": "python",
   "nbconvert_exporter": "python",
   "pygments_lexer": "ipython3",
   "version": "3.10.4"
  }
 },
 "nbformat": 4,
 "nbformat_minor": 5
}
