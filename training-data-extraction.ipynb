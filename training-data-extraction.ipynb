{
 "cells": [
  {
   "cell_type": "markdown",
   "metadata": {},
   "source": [
    "# Training Data Extraction\n",
    "\n",
    "This notebook has been tested and used in Google Colab only.\n",
    "\n",
    "The end result of this notebook are CSV-files, with the following structure:\n",
    "```\n",
    ",volume,agbm,coords,B2_mean,B2_std,B2_max,B2_min,B3_mean,B3_std,B3_max,B3_min,B4_mean,B4_std,B4_max,B4_min,B8_mean,B8_std,B8_max,B8_min\n",
    "0,77.45,75368.88236931057,\"[[[22.047808501617933, 62.14306685369401], [22.048114271765243, 62.143077814760005], [22.048090848918434, 62.14322090081012], [22.047785077339235, 62.14320993967812], [22.047808501617933, 62.14306685369401]]]\",295.8791366906476,9.85900603509299,307.0,280.0,479.49856115107923,24.66090022687755,504.0,439.0,310.19784172661883,20.90550166822127,332.0,275.0,2533.8589928057563,124.24491941322992,2680.0,2344.0\n",
    "1,106.94,113532.58180660434,\"[[[22.048114271765243, 62.143077814760005], [22.04842004216451, 62.143088775152], [22.048396620749585, 62.14323186126803], [22.048090848918434, 62.14322090081012], [22.048114271765243, 62.143077814760005]]]\",275.5542774982027,9.959292143521045,280.0,257.0,443.4392523364486,9.433981132056603,453.0,431.0,265.90797987059665,4.69041575982343,275.0,263.0,2438.8856937455066,58.532042506647585,2486.0,2344.0\n",
    "...\n",
    "```"
   ]
  },
  {
   "cell_type": "code",
   "execution_count": null,
   "metadata": {
    "colab": {
     "base_uri": "https://localhost:8080/"
    },
    "id": "IrnHZmlE7xne",
    "outputId": "2fd3e151-dc2d-420c-cff0-d690ae72d482"
   },
   "outputs": [],
   "source": [
    "# Install missing dependencies from Google Colab\n",
    "!pip install geopandas zipfile_deflate64"
   ]
  },
  {
   "cell_type": "code",
   "execution_count": null,
   "metadata": {
    "id": "53safFvONnFW"
   },
   "outputs": [],
   "source": [
    "import io\n",
    "from pathlib import Path\n",
    "import threading\n",
    "import concurrent.futures\n",
    "\n",
    "import ee\n",
    "import geopandas as gpd\n",
    "import numpy as np\n",
    "from google.colab import files\n",
    "\n",
    "import requests\n",
    "import zipfile_deflate64 as zipfile\n",
    "from lxml import html"
   ]
  },
  {
   "cell_type": "code",
   "execution_count": null,
   "metadata": {
    "colab": {
     "base_uri": "https://localhost:8080/"
    },
    "id": "XPvVgsCYNzaW",
    "outputId": "bad3501c-fa25-45e7-bf75-a4bb1faf2123"
   },
   "outputs": [],
   "source": [
    "ee.Authenticate()\n",
    "ee.Initialize()"
   ]
  },
  {
   "cell_type": "markdown",
   "metadata": {
    "id": "6hNnBLu1N3oB"
   },
   "source": [
    "## Sentinel"
   ]
  },
  {
   "cell_type": "code",
   "execution_count": null,
   "metadata": {
    "id": "RfsDcl5B1r-S"
   },
   "outputs": [],
   "source": [
    "# Recommembed settings for satellite image filtering\n",
    "CLOUD_FILTER = 60\n",
    "CLD_PRB_THRESH = 40\n",
    "NIR_DRK_THRESH = 0.15\n",
    "CLD_PRJ_DIST = 2\n",
    "BUFFER = 100"
   ]
  },
  {
   "cell_type": "code",
   "execution_count": null,
   "metadata": {
    "id": "074vwN2n0X5U"
   },
   "outputs": [],
   "source": [
    "def get_s2_img(aoi, start_date='2021-07-01', end_date='2021-08-01'):    \n",
    "    s2_sr_cld_col = get_s2_sr_cld_col(aoi, start_date, end_date)\n",
    "    return (s2_sr_cld_col.map(add_cld_shdw_mask)\n",
    "                .map(apply_cld_shdw_mask)\n",
    "                .median())"
   ]
  },
  {
   "cell_type": "code",
   "execution_count": null,
   "metadata": {
    "id": "_prgUdF3oYki"
   },
   "outputs": [],
   "source": [
    "def get_s2_sr_cld_col(aoi, start_date, end_date):\n",
    "    # Import and filter S2 SR.\n",
    "    s2_sr_col = (ee.ImageCollection('COPERNICUS/S2_SR')\n",
    "        .filterBounds(aoi)\n",
    "        .filterDate(start_date, end_date)\n",
    "        .filter(ee.Filter.lte('CLOUDY_PIXEL_PERCENTAGE', CLOUD_FILTER)))\n",
    "\n",
    "    # Import and filter s2cloudless.\n",
    "    s2_cloudless_col = (ee.ImageCollection('COPERNICUS/S2_CLOUD_PROBABILITY')\n",
    "        .filterBounds(aoi)\n",
    "        .filterDate(start_date, end_date))\n",
    "\n",
    "    # Join the filtered s2cloudless collection to the SR collection by the 'system:index' property.\n",
    "    return ee.ImageCollection(ee.Join.saveFirst('s2cloudless').apply(**{\n",
    "        'primary': s2_sr_col,\n",
    "        'secondary': s2_cloudless_col,\n",
    "        'condition': ee.Filter.equals(**{\n",
    "            'leftField': 'system:index',\n",
    "            'rightField': 'system:index'\n",
    "        })\n",
    "    }))"
   ]
  },
  {
   "cell_type": "code",
   "execution_count": null,
   "metadata": {
    "id": "ZCQ_MWOyoMB-"
   },
   "outputs": [],
   "source": [
    "def add_shadow_bands(img):\n",
    "    # Identify water pixels from the SCL band.\n",
    "    not_water = img.select('SCL').neq(6)\n",
    "\n",
    "    # Identify dark NIR pixels that are not water (potential cloud shadow pixels).\n",
    "    SR_BAND_SCALE = 1e4\n",
    "    dark_pixels = img.select('B8').lt(NIR_DRK_THRESH*SR_BAND_SCALE).multiply(not_water).rename('dark_pixels')\n",
    "\n",
    "    # Determine the direction to project cloud shadow from clouds (assumes UTM projection).\n",
    "    shadow_azimuth = ee.Number(90).subtract(ee.Number(img.get('MEAN_SOLAR_AZIMUTH_ANGLE')));\n",
    "\n",
    "    # Project shadows from clouds for the distance specified by the CLD_PRJ_DIST input.\n",
    "    cld_proj = (img.select('clouds').directionalDistanceTransform(shadow_azimuth, CLD_PRJ_DIST*10)\n",
    "        .reproject(**{'crs': img.select(0).projection(), 'scale': 100})\n",
    "        .select('distance')\n",
    "        .mask()\n",
    "        .rename('cloud_transform'))\n",
    "\n",
    "    # Identify the intersection of dark pixels with cloud shadow projection.\n",
    "    shadows = cld_proj.multiply(dark_pixels).rename('shadows')\n",
    "\n",
    "    # Add dark pixels, cloud projection, and identified shadows as image bands.\n",
    "    return img.addBands(ee.Image([dark_pixels, cld_proj, shadows]))\n",
    "\n",
    "\n",
    "def add_cloud_bands(img):\n",
    "    # Get s2cloudless image, subset the probability band.\n",
    "    cld_prb = ee.Image(img.get('s2cloudless')).select('probability')\n",
    "\n",
    "    # Condition s2cloudless by the probability threshold value.\n",
    "    is_cloud = cld_prb.gt(CLD_PRB_THRESH).rename('clouds')\n",
    "\n",
    "    # Add the cloud probability layer and cloud mask as image bands.\n",
    "    return img.addBands(ee.Image([cld_prb, is_cloud]))\n",
    "\n",
    "\n",
    "def apply_cld_shdw_mask(img):\n",
    "    # Subset the cloudmask band and invert it so clouds/shadow are 0, else 1.\n",
    "    not_cld_shdw = img.select('cloudmask').Not()\n",
    "\n",
    "    # Subset reflectancemethods bands and update their masks, return the result.\n",
    "    return img.select('B.*').updateMask(not_cld_shdw)\n",
    "\n",
    "\n",
    "def add_cld_shdw_mask(img):\n",
    "    # Add cloud component bands.\n",
    "    img_cloud = add_cloud_bands(img)\n",
    "\n",
    "    # Add cloud shadow component bands.\n",
    "    img_cloud_shadow = add_shadow_bands(img_cloud)\n",
    "\n",
    "    # Combine cloud and shadow mask, set cloud and shadow as value 1, else 0.\n",
    "    is_cld_shdw = img_cloud_shadow.select('clouds').add(img_cloud_shadow.select('shadows')).gt(0)\n",
    "\n",
    "    # Remove small cloud-shadow patches and dilate remaining pixels by BUFFER input.\n",
    "    # 20 m scale is for speed, and assumes clouds don't require 10 m precision.\n",
    "    is_cld_shdw = (is_cld_shdw.focalMin(2).focalMax(BUFFER*2/20)\n",
    "        .reproject(**{'crs': img.select([0]).projection(), 'scale': 20})\n",
    "        .rename('cloudmask'))\n",
    "\n",
    "    # Add the final cloud-shadow mask to the image.\n",
    "    return img_cloud_shadow.addBands(is_cld_shdw)"
   ]
  },
  {
   "cell_type": "markdown",
   "metadata": {
    "id": "Z6cT3G-DORwb"
   },
   "source": [
    "## Bands and Biomass Functions"
   ]
  },
  {
   "cell_type": "code",
   "execution_count": null,
   "metadata": {
    "id": "pb-Ws1TO7wX0"
   },
   "outputs": [],
   "source": [
    "#extract bands from sentinel data\n",
    "def hila_bands(x, band):\n",
    "    aoi = ee.Geometry.Polygon(x)\n",
    "    img = get_s2_img(aoi)\n",
    "\n",
    "    mean_band = img.select(band).reduceRegion(**{\n",
    "    \"reducer\": ee.Reducer.mean(),\n",
    "    \"geometry\": aoi,\n",
    "    \"scale\": 10,  # A nominal scale in meters of the projection to work in\n",
    "    })\n",
    "\n",
    "    std_band = img.select(band).reduceRegion(**{\n",
    "    \"reducer\": ee.Reducer.stdDev(),\n",
    "    \"geometry\": aoi,\n",
    "    \"scale\": 10,  # A nominal scale in meters of the projection to work in\n",
    "    })\n",
    "\n",
    "    max_band = img.select(band).reduceRegion(**{\n",
    "    \"reducer\": ee.Reducer.max(),\n",
    "    \"geometry\": aoi,\n",
    "    \"scale\": 10,  # A nominal scale in meters of the projection to work in\n",
    "    })\n",
    "\n",
    "    min_band = img.select(band).reduceRegion(**{\n",
    "    \"reducer\": ee.Reducer.min(),\n",
    "    \"geometry\": aoi,\n",
    "    \"scale\": 10,  # A nominal scale in meters of the projection to work in\n",
    "    })\n",
    "\n",
    "    return [mean_band.getNumber(band), std_band.getNumber(band), max_band.getNumber(band), min_band.getNumber(band)]"
   ]
  },
  {
   "cell_type": "code",
   "execution_count": null,
   "metadata": {
    "id": "gUyZpnMt-EMf"
   },
   "outputs": [],
   "source": [
    "#Approximating above ground biomass\n",
    "\n",
    "#https://www.silvafennica.fi/article/184\n",
    "def biomass_pine(x):\n",
    "    d_S = 2 + x['meandiameterpine']*1.25\n",
    "    h = x['meanheightpine']\n",
    "    stm = x['stemcountpine']\n",
    "\n",
    "    #average biomass per stem\n",
    "    mean_sbm = -3.198 + 9.547*(d_S/(d_S+12)) + 3.241*(h/(h+20))\n",
    "    #biomass per hila -- log(average biomas) * stem count/ha\n",
    "    agbm = np.exp(mean_sbm)*stm\n",
    "    return agbm\n",
    "\n",
    "def biomass_spruce(x):\n",
    "    d_S = 2 + x['meandiameterspruce']*1.25\n",
    "    h = x['meanheightspruce']\n",
    "    stm = x['stemcountspruce']\n",
    "\n",
    "    mean_sbm = -1.808 + 9.482*(d_S/(d_S+20)) + 0.469*(np.log(h))\n",
    "    agbm = np.exp(mean_sbm)*stm\n",
    "    return agbm\n",
    "\n",
    "#https://www.silvafennica.fi/article/236\n",
    "#estimate for decidous trees\n",
    "def biomass_birch(x):\n",
    "    d_S = 2 + x['meandiameterpine']*1.25\n",
    "    h = x['meanheightpine']\n",
    "    stm = x['stemcountpine']\n",
    "\n",
    "    mean_sbm = -3.654 + 10.582*(d_S/(d_S+12)) + 3.018*(h/(h+22))\n",
    "    agbm = np.exp(mean_sbm)*stm\n",
    "    return agbm\n",
    "\n",
    "\n",
    "def est_agbm(x):\n",
    "    pine = biomass_pine(x)\n",
    "    spr = biomass_spruce(x)\n",
    "    bir = biomass_birch(x)\n",
    "\n",
    "    return (pine + spr + bir)"
   ]
  },
  {
   "cell_type": "code",
   "execution_count": null,
   "metadata": {
    "id": "bCOJi9bWRtoU"
   },
   "outputs": [],
   "source": [
    "#extract band values for the hila-grids\n",
    "#Collect Numbers to List, evaluate once to save time in getInfo() calls\n",
    "def extract_bands(coords, band):\n",
    "    ln = len(coords)\n",
    "    # Changed from 1000 to 500, because ran out of memory\n",
    "    chunk = 500\n",
    "    res = []\n",
    "\n",
    "    # due to user memory limit, need to work in 1K chunks of data\n",
    "    for i in range(0, ln, chunk):\n",
    "    lim = i+chunk\n",
    "    if lim > ln:\n",
    "        lim = ln\n",
    "\n",
    "    tmp = coords[i:lim].apply(lambda x: hila_bands(x, band))\n",
    "    res.extend(ee.List([x for x in tmp]).getInfo())\n",
    "\n",
    "    return res"
   ]
  },
  {
   "cell_type": "code",
   "execution_count": null,
   "metadata": {
    "id": "7wsCusiyP5MZ"
   },
   "outputs": [],
   "source": [
    "# Convert GeoPandas polygons to list of coordinates for EE\n",
    "def conv_Polygon(poly):\n",
    "    x,y = poly.exterior.coords.xy\n",
    "    coords = np.dstack((x,y)).tolist()\n",
    "    return coords"
   ]
  },
  {
   "cell_type": "markdown",
   "metadata": {
    "id": "_cuhEC25lTWa"
   },
   "source": [
    "## Forest Grid Download\n",
    "Download grid data from the Forest Center for specific map cells."
   ]
  },
  {
   "cell_type": "code",
   "execution_count": null,
   "metadata": {
    "id": "2C5PbH2rcnoT"
   },
   "outputs": [],
   "source": [
    "# Finds all available map cell download links\n",
    "def get_hila_links():\n",
    "    root_url = 'https://aineistot.metsaan.fi'\n",
    "    karttalehti_url = root_url + '/avoinmetsatieto/Hila/Karttalehti/'\n",
    "    res = requests.get(karttalehti_url)\n",
    "    page = html.fromstring(res.content)\n",
    "    # Get all href links\n",
    "    links = page.xpath('//a/@href')\n",
    "    # Add root url to them\n",
    "    links = [root_url + link for link in links]\n",
    "    # Skip first link (link to parent directory)\n",
    "    links = links[1:]\n",
    "    return links"
   ]
  },
  {
   "cell_type": "code",
   "execution_count": null,
   "metadata": {
    "id": "v3x0Ryrx7qNe"
   },
   "outputs": [],
   "source": [
    "# Downlads link to specified directory\n",
    "def download_hila(link, out_dir):\n",
    "    r = requests.get(link)\n",
    "    z = zipfile.ZipFile(io.BytesIO(r.content))\n",
    "    z.extractall(out_dir)\n",
    "    file_path = out_dir/z.namelist()[0]\n",
    "    return file_path"
   ]
  },
  {
   "cell_type": "code",
   "execution_count": null,
   "metadata": {
    "id": "g2YQHuA68UG6"
   },
   "outputs": [],
   "source": [
    "# Reads and transforms a grid data file\n",
    "def read_hila(path):\n",
    "    gdf = gpd.read_file(path)\n",
    "    gdf = gdf[['volume',\n",
    "               'geometry',\n",
    "               'meandiameterpine',\n",
    "               'meanheightpine',\n",
    "               'stemcountpine',\n",
    "               'meandiameterspruce',\n",
    "               'meanheightspruce',\n",
    "               'stemcountspruce',\n",
    "               'meandiameterdeciduous',\n",
    "               'meanheightdeciduous',\n",
    "               'stemcountdeciduous']]\n",
    "    gdf = gdf.to_crs(epsg=4326)\n",
    "    gdf['coords'] = gdf['geometry'].map(conv_Polygon)\n",
    "    gdf['agbm'] = gdf.apply(est_agbm, axis=1)\n",
    "    gdf = gdf[['volume', 'agbm', 'coords']]\n",
    "    return gdf"
   ]
  },
  {
   "cell_type": "code",
   "execution_count": null,
   "metadata": {
    "id": "5at4NzqY9euh"
   },
   "outputs": [],
   "source": [
    "# All available map cells\n",
    "all_links = get_hila_links()"
   ]
  },
  {
   "cell_type": "markdown",
   "metadata": {
    "id": "o4j2FhdbzX8g"
   },
   "source": [
    "You can visually select specific map cells here: https://tiedostopalvelu.maanmittauslaitos.fi/tp/kartta?lang=en\n",
    "\n",
    "Press `+ Elevation model (2)` and `+ Elevation model 2 m`. This will show the names of the map cells, when you zoom close enough.\n",
    "\n",
    "When you click a cell, its name will appear on the right, from where you can copy the name. Paste them to the below list."
   ]
  },
  {
   "cell_type": "code",
   "execution_count": null,
   "metadata": {
    "id": "qs8dunXSPkjY"
   },
   "outputs": [],
   "source": [
    "# Names of map cells to use\n",
    "cells = ['T4312C', 'Q4233E', 'N4243C', 'P5333E']"
   ]
  },
  {
   "cell_type": "code",
   "execution_count": null,
   "metadata": {
    "colab": {
     "base_uri": "https://localhost:8080/"
    },
    "id": "JDVYUse5jOP4",
    "outputId": "87e13497-4058-4705-c349-27e2348aa5a9"
   },
   "outputs": [],
   "source": [
    "# Filter download links for selected cells\n",
    "links = [link for link in all_links if [cell for cell in cells if cell in link]]\n",
    "links"
   ]
  },
  {
   "cell_type": "code",
   "execution_count": null,
   "metadata": {
    "colab": {
     "base_uri": "https://localhost:8080/"
    },
    "id": "dHf1izd3eMdB",
    "outputId": "8eb3e3fd-6f8b-4143-9966-324eacc42e63"
   },
   "outputs": [],
   "source": [
    "# Download selected links to out_dir\n",
    "paths = []\n",
    "out_dir = Path('hila-map')\n",
    "out_dir.mkdir(exist_ok=True)\n",
    "for link in links:\n",
    "    path = download_hila(link, out_dir=out_dir)\n",
    "    paths.append(path)\n",
    "paths"
   ]
  },
  {
   "cell_type": "markdown",
   "metadata": {
    "id": "7ZvSIGX_XbRP"
   },
   "source": [
    "## Satellite Data Extraction\n",
    "Join Sentinel images with the coordinates of forest grids and extract the band information."
   ]
  },
  {
   "cell_type": "code",
   "execution_count": null,
   "metadata": {
    "id": "Wo70KtGTpp9w"
   },
   "outputs": [],
   "source": [
    "bands = ['B2', 'B3', 'B4', 'B8']"
   ]
  },
  {
   "cell_type": "markdown",
   "metadata": {
    "id": "Imu54vjS00mR"
   },
   "source": [
    "One map cell takes ~2h to extract."
   ]
  },
  {
   "cell_type": "code",
   "execution_count": null,
   "metadata": {
    "colab": {
     "base_uri": "https://localhost:8080/"
    },
    "id": "18lK2XRiuKu_",
    "outputId": "49fa2937-7b6b-4e2b-c73c-93bc015cda40"
   },
   "outputs": [],
   "source": [
    "for path in (paths):\n",
    "    print(f'Extracting S2 data for {path.stem}')\n",
    "    gdf = read_hila(path)\n",
    "    with concurrent.futures.ThreadPoolExecutor(max_workers=4) as executor:\n",
    "        futures = [executor.submit(extract_bands, gdf['coords'], band) for band in bands]\n",
    "\n",
    "    for i, future in enumerate(futures):\n",
    "        band = bands[i]\n",
    "        gdf[[f'{band}_mean',f'{band}_std', f'{band}_max', f'{band}_min']] = future.result()\n",
    "\n",
    "    gdf.to_csv(f'{path.stem}.csv')"
   ]
  },
  {
   "cell_type": "code",
   "execution_count": null,
   "metadata": {
    "id": "CrSIMB2iZotS"
   },
   "outputs": [],
   "source": []
  }
 ],
 "metadata": {
  "colab": {
   "collapsed_sections": [],
   "name": "Copy of extract-training-data.ipynb",
   "provenance": []
  },
  "kernelspec": {
   "display_name": "Python 3 (ipykernel)",
   "language": "python",
   "name": "python3"
  },
  "language_info": {
   "codemirror_mode": {
    "name": "ipython",
    "version": 3
   },
   "file_extension": ".py",
   "mimetype": "text/x-python",
   "name": "python",
   "nbconvert_exporter": "python",
   "pygments_lexer": "ipython3",
   "version": "3.10.4"
  }
 },
 "nbformat": 4,
 "nbformat_minor": 1
}
