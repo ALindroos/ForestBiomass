{
 "cells": [
  {
   "cell_type": "markdown",
   "id": "d65f60e8",
   "metadata": {},
   "source": [
    "# Model Training\n",
    "Tune and train a Random Forest Regressor model."
   ]
  },
  {
   "cell_type": "code",
   "execution_count": null,
   "id": "d8784e7d",
   "metadata": {},
   "outputs": [],
   "source": [
    "import pandas as pd\n",
    "import numpy as np\n",
    "from sklearn.model_selection import train_test_split\n",
    "from sklearn.ensemble import RandomForestRegressor\n",
    "from sklearn import metrics\n",
    "from sklearn.feature_selection import VarianceThreshold\n",
    "import joblib\n",
    "from pathlib import Path"
   ]
  },
  {
   "cell_type": "code",
   "execution_count": null,
   "id": "be888425",
   "metadata": {},
   "outputs": [],
   "source": [
    "def set_index_variables(df):    \n",
    "    df['ndvi'] = (df['B8_mean'] - df['B4_mean'])/(df['B8_mean'] + df['B4_mean'])\n",
    "    df['gndvi'] = (df['B8_mean'] - df['B3_mean'])/(df['B8_mean'] + df['B3_mean'])\n",
    "    df['evi'] = 2.5 * ((df['B8_mean'] - df['B4_mean'])/(df['B8_mean'] - 6*df['B4_mean'] - 7.5*df['B2_mean'] + 1))\n",
    "    df['sr'] = df['B8_mean'] / df['B4_mean']\n",
    "    df['msr'] = ((df['B8_mean'])/(df['B4_mean']-1)) / (np.sqrt((df['B8_mean'])/(df['B4_mean']))+1)\n",
    "    df['savi'] = (1+1) * (df['B8_mean']-df['B4_mean'])/(df['B8_mean']+df['B4_mean'])\n",
    "    df['ctvi'] = (df['ndvi']+0.5)/(abs(df['ndvi']+0.5)) * np.sqrt(abs(df['ndvi']+0.5))\n",
    "    df['ttvi'] = np.sqrt(abs((df['B8_mean']-df['B4_mean'])/(df['B8_mean']+df['B4_mean']) + 0.5))\n",
    "    df['rvi'] = df['B4_mean'] / df['B8_mean']\n",
    "    df['nrvi'] = (df['rvi']-1)/(df['rvi']+1)\n",
    "    df['ipvi'] = (df['B8_mean']) / (df['B8_mean']+df['B4_mean'])\n",
    "    df['osavi'] = (df['B8_mean']-df['B4_mean']) / (df['B8_mean']+df['B4_mean']+0.16)\n",
    "    df['tndvi'] = np.sqrt(df['ndvi']+0.5)\n",
    "    df['grvi'] = (df['B3_mean']-df['B4_mean']) / (df['B3_mean']+df['B4_mean'])\n",
    "    df['arvi'] = (df['B8_mean']-(2*df['B4_mean']-df['B2_mean']))/(df['B8_mean']+(2*df['B4_mean']-df['B2_mean']))\n",
    "    return df"
   ]
  },
  {
   "cell_type": "code",
   "execution_count": null,
   "id": "68e3adef",
   "metadata": {},
   "outputs": [],
   "source": [
    "train_data_dir = './data/train'\n",
    "train_samples = sorted(Path(train_data_dir).glob('Hila_*.csv'))\n",
    "train_samples"
   ]
  },
  {
   "cell_type": "code",
   "execution_count": null,
   "id": "a0f14739",
   "metadata": {},
   "outputs": [],
   "source": [
    "df = []\n",
    "for path in train_samples:\n",
    "    tmp_df = pd.read_csv(path, index_col=0)\n",
    "    df.append(tmp_df)\n",
    "df = pd.concat(df).reset_index(drop=True)\n",
    "df['agbm'] = 0.0256 * df['agbm'] / 1000\n",
    "df = set_index_variables(df)\n",
    "df.dropna(axis=0, inplace=True)"
   ]
  },
  {
   "cell_type": "code",
   "execution_count": null,
   "id": "73aa1499",
   "metadata": {},
   "outputs": [],
   "source": [
    "# Features to include in model\n",
    "selected_features = ['B8_max', 'grvi', 'B2_mean', 'B3_mean', 'B8_min', 'B4_std', 'B3_max', 'B8_mean',\n",
    "                     'gndvi', 'B8_std', 'B2_max', 'B4_min', 'B2_min', 'B4_mean', 'B3_min', 'B2_std',\n",
    "                     'B4_max', 'msr', 'ctvi', 'rvi', 'osavi', 'sr', 'ndvi', 'nrvi', 'ipvi', 'ttvi', \n",
    "                     'savi', 'tndvi', 'evi', 'B3_std']\n",
    "\n",
    "X = df[selected_features]\n",
    "y = df[\"agbm\"]\n",
    "\n",
    "# Remove features with low variance (doesn't actually remove any)\n",
    "sel = VarianceThreshold(threshold=(.9 * (1 - .9)))\n",
    "sel.fit_transform(X)\n",
    "\n",
    "X_train, X_test, y_train, y_test = train_test_split(X, y, test_size = 0.1, random_state=42)"
   ]
  },
  {
   "cell_type": "code",
   "execution_count": null,
   "id": "ed5e94fa",
   "metadata": {},
   "outputs": [],
   "source": [
    "len(y), len(y_train), len(y_test)"
   ]
  },
  {
   "cell_type": "code",
   "execution_count": null,
   "id": "f432930b",
   "metadata": {},
   "outputs": [],
   "source": [
    "rf = RandomForestRegressor(\n",
    "    n_estimators = 1555,\n",
    "    random_state = 42,\n",
    "    oob_score = True,\n",
    "    max_features = \"auto\",\n",
    "    max_samples = 20000,\n",
    "    max_depth = 30,\n",
    "    min_samples_leaf = 2,\n",
    "    min_samples_split = 2,\n",
    "    n_jobs = 4 # How many parallel processes to use while training\n",
    ")"
   ]
  },
  {
   "cell_type": "code",
   "execution_count": null,
   "id": "26e20188",
   "metadata": {},
   "outputs": [],
   "source": [
    "# Train model (~7 min with n_jobs=4, ~4 min with n_jobs=12)\n",
    "%time rf.fit(X_train, y_train)"
   ]
  },
  {
   "cell_type": "code",
   "execution_count": null,
   "id": "9c87a278",
   "metadata": {},
   "outputs": [],
   "source": [
    "# Save model\n",
    "saved_model_path = './model/rf-final.joblib'\n",
    "joblib.dump(rf, saved_model_path, compress=3)"
   ]
  },
  {
   "cell_type": "markdown",
   "id": "4a86c2d8",
   "metadata": {},
   "source": [
    "Model can be loaded with\n",
    "`rf = joblib.load(saved_model_path)`"
   ]
  },
  {
   "cell_type": "code",
   "execution_count": null,
   "id": "f73d3fe1",
   "metadata": {},
   "outputs": [],
   "source": [
    "y_pred = rf.predict(X_test)"
   ]
  },
  {
   "cell_type": "code",
   "execution_count": null,
   "id": "d309469d",
   "metadata": {},
   "outputs": [],
   "source": [
    "print('Mean Absolute Error:', metrics.mean_absolute_error(y_test, y_pred))\n",
    "print('Mean Squared Error:', metrics.mean_squared_error(y_test, y_pred))\n",
    "print('Root Mean Squared Error:', np.sqrt(metrics.mean_squared_error(y_test, y_pred)))\n",
    "print('Out-of-bag score:', rf.oob_score_)"
   ]
  }
 ],
 "metadata": {
  "interpreter": {
   "hash": "b224422e45ae952d47f5ec240d5a35652c57ec301d328339ccb6395965e9c921"
  },
  "kernelspec": {
   "display_name": "Python 3.9.7 ('geo')",
   "language": "python",
   "name": "python3"
  },
  "language_info": {
   "codemirror_mode": {
    "name": "ipython",
    "version": 3
   },
   "file_extension": ".py",
   "mimetype": "text/x-python",
   "name": "python",
   "nbconvert_exporter": "python",
   "pygments_lexer": "ipython3",
   "version": "3.9.7"
  }
 },
 "nbformat": 4,
 "nbformat_minor": 5
}
